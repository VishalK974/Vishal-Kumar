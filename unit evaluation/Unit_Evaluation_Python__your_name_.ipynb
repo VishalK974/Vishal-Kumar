{
  "nbformat": 4,
  "nbformat_minor": 0,
  "metadata": {
    "colab": {
      "name": "Unit_Evaluation_Python_<your-name>.ipynb",
      "provenance": [],
      "collapsed_sections": []
    },
    "kernelspec": {
      "name": "python3",
      "display_name": "Python 3"
    },
    "language_info": {
      "name": "python"
    }
  },
  "cells": [
    {
      "cell_type": "markdown",
      "source": [
        "# Instructions"
      ],
      "metadata": {
        "id": "6JiYkpckpwJ_"
      }
    },
    {
      "cell_type": "markdown",
      "source": [
        "1. This paper contains 10 questions each carry 10 marks; Attend all the questions; Maximum Total 100 marks. \n",
        "2. Submit solution as .ipynb notebook; Use candidate name in notebook's name by replacing `<your-name>`.\n",
        "3. Do not use any libraries unless otherwise mentioned in the question."
      ],
      "metadata": {
        "id": "NvNQeOFAopmn"
      }
    },
    {
      "cell_type": "markdown",
      "source": [
        "# 1. Revised Budget\n",
        "\n",
        "### The awards committee of your Prepleaf asked for your assistance with a budget allocation problem they're facing. Originally, the committee planned to give N research grants this year. However, due to spending cutbacks, the budget was reduced to newBudget and now they need to reallocate the grants. The committee made a decision that they'd like to impact as few grant recipients as possible by applying a maximum cap on all grants. Every grant initially planned to be higher than cap will now be exactly cap. Grants less or equal to cap, obviously, won't be impacted.\n",
        "\n",
        "### Given an array grantsArray of the original grants and the reduced budget newBudget, write a function findGrantsCap that finds in the most efficient manner a cap such that the least number of recipients is impacted and that the new budget constraint is met (i.e. sum of the N reallocated grants equals to newBudget).\n",
        "\n",
        "\n",
        " Examples:\n",
        "> 1.\n",
        " input:  grantsArray = [2, 100, 50, 120, 1000], newBudget = 190\n",
        "\n",
        " output: new_cap = 47, \n",
        " new grants array = [2, 47, 47, 47, 47]. Notice that the sum of  the new grants is indeed 190\n",
        "\n",
        "> 2. \n",
        "input:  grantsArray = [2, 50, 50, 120, 1000], newBudget = 250 \n",
        "\n",
        "output: new_cap = 66,\n",
        "new grants  = [2, 50, 50, 66.0, 66.0] "
      ],
      "metadata": {
        "id": "-QXlRBDxqN33"
      }
    },
    {
      "cell_type": "code",
      "execution_count": null,
      "metadata": {
        "id": "eP5JOJBJodp8"
      },
      "outputs": [],
      "source": [
        ""
      ]
    },
    {
      "cell_type": "markdown",
      "source": [
        "# 2. Contract or Expand?\n",
        "\n",
        "### A program is passed with a list of positive integers (lst). If the count of prime numbers in the list is odd pass the original list to a function **contract_diff(lst)** as described below, and if the count of prime numbers in the list is zero or even pass the original list to a function **expand_diff(lst)** as described below:\n",
        "\n",
        "### **contract_diff(lst)** is a function that takes as input a list of integer lst and returns True if the absolute difference between each adjacent pair of elements strictly decreases.\n",
        "\n",
        "### **expand_diff(lst)** is a function that takes as input a list of integer lst and returns True if the absolute difference between each adjacent pair of elements strictly increases.\n",
        "\n",
        "Here are some examples of how your functions should work.\n",
        "  > lst = [9,2,3,7]\n",
        "\n",
        "  > Output: False\n",
        "\n",
        "  > lst = [2,3,7,2,11] \n",
        "\n",
        "  > Output: True\n",
        "\n"
      ],
      "metadata": {
        "id": "VG8oBsw5vGa6"
      }
    },
    {
      "cell_type": "markdown",
      "source": [
        "# 3. Peaks and Valleys\n",
        "\n",
        "### Given a list of integers lst write a program to formulate a new list l of length equal to lst with elements of lst modified such that if an element is even return its cube, else return its square. \n",
        "\n",
        "### After formulating the list l, the neighbours of l[i] are l[i-1] and l[i+1]. l[i] is a peak if it is strictly greater than its neighbours and a valley if it is strictly less than its neighbours.\n",
        "\n",
        "### Write a function peakvalley(l) that takes as input a list of integers l and returns a list [pc,vc] where hc is the number of peaks in l and vc is the number of valleys in l. If a number has only one neighbour, i.e. first element as well as last element of a list, skip that element in peak or valley calculations.\n",
        "\n",
        "### Here are some examples to show how your function should work.\n",
        "\n",
        "input: lst = [1,2,3,4,5,2]\n",
        "\n",
        "outputs: intermediate_list, l = 1,8,9,64,25,8\n",
        "\n",
        "peak_valley_count, [pc,vc] = [1,1] "
      ],
      "metadata": {
        "id": "XewxhKRYvGrV"
      }
    },
    {
      "cell_type": "markdown",
      "source": [
        "# 4. Balanced Brackets\n",
        "\n",
        "### Does a given string have balanced pairs of brackets?\n",
        "###    Given a string as input, return True or False depending on whether the string contains balanced (), {}, [], and/or <>\n",
        "\n",
        "Example: \n",
        "\n",
        "`(({{[]}))` --> True\n",
        "\n",
        "`(<)>{}` --> False\n",
        "\n",
        "`[]{})()` --> False\n"
      ],
      "metadata": {
        "id": "qJp7vISWvG6C"
      }
    },
    {
      "cell_type": "markdown",
      "source": [
        "# 5. Merge My Ranges\n",
        "\n",
        "### Write a function merge_ranges() that takes a list of meeting time ranges and returns a list of condensed ranges. Few examples are given below:\n",
        "\n",
        "\n",
        "    >>> merge_ranges([(3, 5), (4, 8), (10, 12), (9, 10), (0, 1),(4,7])\n",
        "    [(0, 1), (3, 8), (9, 12)]\n",
        "    >>> merge_ranges([(0, 3), (3, 5), (4, 8), (10, 12), (9, 10)])\n",
        "    [(0, 8), (9, 12)]\n",
        "    >>> merge_ranges([(0, 3), (3, 5)])\n",
        "    [(0, 5)]\n",
        "    >>> merge_ranges([(0, 3), (3, 5), (7, 8)])\n",
        "    [(0, 5), (7, 8)]\n",
        "    >>> merge_ranges([(1, 5), (2, 3)])\n",
        "    [(1, 5)] "
      ],
      "metadata": {
        "id": "ewiKnIKovHQv"
      }
    },
    {
      "cell_type": "markdown",
      "source": [
        "# 6. Enemy's Secret Code\n",
        "### Decodes a string. A valid code is a sequence of numbers and alphabets. \n",
        "\n",
        "### Consider all the alphabets that occur before the first occurrence of a number.\n",
        "### Each number tells you how many characters to skip before landing on a good character. If the landed character is an alphabet, append that character as well as all other alphabets to decoded string. Else if the landed character is a digit skip that many characters in the original string. Decoded string should contain only alphabets.\n",
        "    >>> decode(\"0h\")\n",
        "    'h' \n",
        "    >>> decode(\"t2abhe3j\")\n",
        "    'the' \n",
        "    >>> decode(\"0h1ae2bc2hey\")\n",
        "    'hey' "
      ],
      "metadata": {
        "id": "1o5Did9MvJoH"
      }
    },
    {
      "cell_type": "markdown",
      "source": [
        "# 7. Zigzag sub-array\n",
        "\n",
        "### A sequence of integers is called a zigzag sequence if each of its elements is either strictly less than both neighbors or strictly greater than both neighbors. For example, the sequence 4 2 3 1 5 3 is a zigzag, but 7 3 5 5 2 and 3 8 6 4 5 aren't.\n",
        "### For a given array of integers return the length of its longest contiguous sub-array that is a zigzag sequence.\n",
        " Example\n",
        " For a = [9, 8, 8, 5, 3, 5, 3, 2, 8, 6], the output should be zigzag(a) = 4.\n",
        " The longest zigzag sub-arrays are [5, 3, 5, 3] and [3, 2, 8, 6] and they both have length 4."
      ],
      "metadata": {
        "id": "zeADgg14vLFZ"
      }
    },
    {
      "cell_type": "markdown",
      "source": [
        "# 8. Data Preprocessing\n",
        "\n",
        "Use Pandas library for the following 3 questions. These questions are based on a csv file \"unit evaluation.csv\". Do the following operations. Use seperate cells for separate operations:\n",
        "\n",
        "1. Load the file into a dataframe.\n",
        "2. Delete columns which have more than 30% of its elements as null values. Column names that are to be deleted should not be written manually. Print shape of dataframe.\n",
        "3. Fill null values with mean if column is numerical data type and fill with mode value if column is categorical datatype."
      ],
      "metadata": {
        "id": "A59P1lbevMK5"
      }
    },
    {
      "cell_type": "markdown",
      "source": [
        "# 9. Yearwise Analysis\n",
        "\n",
        "### Do the following operations on preprocessed dataframe:\n",
        "\n",
        "1. Print Unique entries in the column `MSZoning`. \n",
        "2. Print Years as a list such that those years should have all possible `MSZoning` unique values occurred atleast 2 times."
      ],
      "metadata": {
        "id": "Lh-yDSolVRg9"
      }
    },
    {
      "cell_type": "markdown",
      "source": [
        "# 10. Plot a Pie \n",
        "\n",
        "### Using preprocessed data, Draw a pie chart for the highest `MSSubClass` value corresponding to each of the `LotShape` features where `SalesPrice` is more than its mean value, `EnclosedPorch` is above 10 and `RoofStyle` is any of Gable, Hip and Gambrel\n"
      ],
      "metadata": {
        "id": "88R-FXF9Zzc3"
      }
    }
  ]
}